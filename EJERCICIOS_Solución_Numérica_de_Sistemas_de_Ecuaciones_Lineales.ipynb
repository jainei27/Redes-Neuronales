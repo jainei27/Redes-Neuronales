{
  "nbformat": 4,
  "nbformat_minor": 0,
  "metadata": {
    "colab": {
      "provenance": [],
      "include_colab_link": true
    },
    "kernelspec": {
      "name": "python3",
      "display_name": "Python 3"
    },
    "language_info": {
      "name": "python"
    }
  },
  "cells": [
    {
      "cell_type": "markdown",
      "metadata": {
        "id": "view-in-github",
        "colab_type": "text"
      },
      "source": [
        "<a href=\"https://colab.research.google.com/github/jainei27/Redes-Neuronales/blob/main/EJERCICIOS_Soluci%C3%B3n_Num%C3%A9rica_de_Sistemas_de_Ecuaciones_Lineales.ipynb\" target=\"_parent\"><img src=\"https://colab.research.google.com/assets/colab-badge.svg\" alt=\"Open In Colab\"/></a>"
      ]
    },
    {
      "cell_type": "markdown",
      "source": [
        "##***EJERCICIOS Solución Numérica de Sistemas de Ecuaciones Lineales***"
      ],
      "metadata": {
        "id": "4Dv_sHSEr-Mg"
      }
    },
    {
      "cell_type": "markdown",
      "source": [
        "**Eliminacion de GAUSS**"
      ],
      "metadata": {
        "id": "WpUP2NTspqn-"
      }
    },
    {
      "cell_type": "markdown",
      "source": [
        "Planteamiento 1"
      ],
      "metadata": {
        "id": "k8SID4HYpwzq"
      }
    },
    {
      "cell_type": "code",
      "source": [
        "import numpy as np\n",
        "\n",
        "# Matriz de coeficientes\n",
        "A = np.array([[2, 3, 1],\n",
        "              [4, 1, 2],\n",
        "              [3, 4, 2]], dtype=float)\n",
        "\n",
        "# Vector de términos independientes\n",
        "b = np.array([0.5, -1.0, 1.5], dtype=float)\n",
        "\n",
        "# Resolviendo el sistema de ecuaciones usando eliminación de Gauss\n",
        "sol = np.linalg.solve(A, b)\n",
        "\n",
        "# Mostrar la solución\n",
        "print(\"Solución del sistema (Planteamiento 1):\")\n",
        "print(f\"g1 = {sol[0]:.6f}, g2 = {sol[1]:.6f}, g3 = {sol[2]:.6f}\")"
      ],
      "metadata": {
        "colab": {
          "base_uri": "https://localhost:8080/"
        },
        "id": "G6YPXsKTp2jc",
        "outputId": "c68ca5ae-9488-419a-9f99-8a182710edc8"
      },
      "execution_count": null,
      "outputs": [
        {
          "output_type": "stream",
          "name": "stdout",
          "text": [
            "Solución del sistema (Planteamiento 1):\n",
            "g1 = -1.300000, g2 = 0.400000, g3 = 1.900000\n"
          ]
        }
      ]
    },
    {
      "cell_type": "markdown",
      "source": [
        "Planteamiento 2"
      ],
      "metadata": {
        "id": "KCIDgyF6pzsY"
      }
    },
    {
      "cell_type": "code",
      "source": [
        "# Matriz de coeficientes\n",
        "A = np.array([[3, -0.1, -0.2],\n",
        "              [0.1, 0.7, -0.3],\n",
        "              [0.3, -0.2, 10]], dtype=float)\n",
        "\n",
        "# Vector de términos independientes\n",
        "b = np.array([7.85, -19.3, 71.4], dtype=float)\n",
        "\n",
        "# Resolviendo el sistema de ecuaciones usando eliminación de Gauss\n",
        "sol = np.linalg.solve(A, b)\n",
        "\n",
        "# Mostrar la solución\n",
        "print(\"Solución del sistema (Planteamiento 2):\")\n",
        "print(f\"g1 = {sol[0]:.6f}, g2 = {sol[1]:.6f}, g3 = {sol[2]:.6f}\")"
      ],
      "metadata": {
        "colab": {
          "base_uri": "https://localhost:8080/"
        },
        "id": "aWJA9AlSp3aU",
        "outputId": "5b3c7ca9-3f40-484c-8d56-76c805dd9ee5"
      },
      "execution_count": null,
      "outputs": [
        {
          "output_type": "stream",
          "name": "stdout",
          "text": [
            "Solución del sistema (Planteamiento 2):\n",
            "g1 = 2.219070, g2 = -25.071871, g3 = 6.571990\n"
          ]
        }
      ]
    },
    {
      "cell_type": "markdown",
      "source": [
        "**Metodo de la Matriz Inversa**"
      ],
      "metadata": {
        "id": "LfEYcqhnp1xJ"
      }
    },
    {
      "cell_type": "code",
      "source": [
        "# Matriz de coeficientes\n",
        "A = np.array([[3, -0.1, -0.2],\n",
        "              [0.1, 0.7, -0.3],\n",
        "              [0.3, -0.2, 10]], dtype=float)\n",
        "\n",
        "# Vector de términos independientes\n",
        "b = np.array([7.85, -19.3, 71.4], dtype=float)\n",
        "\n",
        "# Calcular la matriz inversa\n",
        "A_inv = np.linalg.inv(A)\n",
        "\n",
        "# Multiplicar A_inv por el vector b\n",
        "sol = np.dot(A_inv, b)\n",
        "\n",
        "# Mostrar la solución\n",
        "print(\"Pesos ajustados usando la matriz inversa:\")\n",
        "print(f\"w1 = {sol[0]:.4f}, w2 = {sol[1]:.4f}, w3 = {sol[2]:.4f}\")"
      ],
      "metadata": {
        "colab": {
          "base_uri": "https://localhost:8080/"
        },
        "id": "1qJKrxNgp8Wq",
        "outputId": "2dd06163-e6f6-4542-b03c-6ee2c8c9f33b"
      },
      "execution_count": null,
      "outputs": [
        {
          "output_type": "stream",
          "name": "stdout",
          "text": [
            "Pesos ajustados usando la matriz inversa:\n",
            "w1 = 2.2191, w2 = -25.0719, w3 = 6.5720\n"
          ]
        }
      ]
    },
    {
      "cell_type": "markdown",
      "source": [
        "**Metodo de Jacob**"
      ],
      "metadata": {
        "id": "DEE0uV11p9Ph"
      }
    },
    {
      "cell_type": "code",
      "source": [
        "def jacobi(A, b, x0, tol=1e-10, max_iter=1000):\n",
        "    n = len(b)\n",
        "    x = x0\n",
        "    for k in range(max_iter):\n",
        "        x_new = np.zeros_like(x)\n",
        "        for i in range(n):\n",
        "            s = sum(A[i][j] * x[j] for j in range(n) if i != j)\n",
        "            x_new[i] = (b[i] - s) / A[i][i]\n",
        "        if np.linalg.norm(x_new - x, ord=np.inf) < tol:\n",
        "            return x_new\n",
        "        x = x_new\n",
        "    return x\n",
        "\n",
        "# Matriz de coeficientes\n",
        "A = np.array([[3, -0.1, -0.2],\n",
        "              [0.1, 0.7, -0.3],\n",
        "              [0.3, -0.2, 10]], dtype=float)\n",
        "\n",
        "# Vector de términos independientes\n",
        "b = np.array([7.85, -19.3, 71.4], dtype=float)\n",
        "\n",
        "# Aproximación inicial\n",
        "x0 = np.zeros_like(b)\n",
        "\n",
        "# Aplicar el método de Jacobi\n",
        "sol = jacobi(A, b, x0)\n",
        "\n",
        "print(\"Pesos ajustados usando Jacobi:\")\n",
        "print(sol)"
      ],
      "metadata": {
        "colab": {
          "base_uri": "https://localhost:8080/"
        },
        "id": "NmMlCIaDqBFP",
        "outputId": "f88374aa-0293-465a-ab2c-e0cba0d95951"
      },
      "execution_count": null,
      "outputs": [
        {
          "output_type": "stream",
          "name": "stdout",
          "text": [
            "Pesos ajustados usando Jacobi:\n",
            "[  2.21907032 -25.07187128   6.57199046]\n"
          ]
        }
      ]
    },
    {
      "cell_type": "markdown",
      "source": [
        "**Metodo iterativo de GAUSS-Seidel**"
      ],
      "metadata": {
        "id": "I5V5oyAlqBdd"
      }
    },
    {
      "cell_type": "code",
      "source": [
        "def gauss_seidel(A, b, x0, tol=1e-10, max_iter=1000):\n",
        "    n = len(b)\n",
        "    x = x0\n",
        "    for k in range(max_iter):\n",
        "        x_new = np.copy(x)\n",
        "        for i in range(n):\n",
        "            s1 = sum(A[i][j] * x_new[j] for j in range(i))\n",
        "            s2 = sum(A[i][j] * x[j] for j in range(i+1, n))\n",
        "            x_new[i] = (b[i] - s1 - s2) / A[i][i]\n",
        "        if np.linalg.norm(x_new - x, ord=np.inf) < tol:\n",
        "            return x_new, k\n",
        "        x = x_new\n",
        "    return x, max_iter\n",
        "\n",
        "# Matriz de coeficientes\n",
        "A = np.array([[10, -1, 2],\n",
        "              [-1, 11, -1],\n",
        "              [2, -1, 10]], dtype=float)\n",
        "\n",
        "# Vector de términos independientes\n",
        "b = np.array([5, 6, 7], dtype=float)\n",
        "\n",
        "# Aproximación inicial\n",
        "x0 = np.zeros_like(b)\n",
        "\n",
        "# Aplicar el método de Gauss-Seidel\n",
        "sol, iteraciones = gauss_seidel(A, b, x0)\n",
        "\n",
        "print(\"Pesos ajustados usando Gauss-Seidel:\")\n",
        "print(sol)\n",
        "print(f\"Número de iteraciones: {iteraciones}\")"
      ],
      "metadata": {
        "colab": {
          "base_uri": "https://localhost:8080/"
        },
        "id": "5txf0bboqGFJ",
        "outputId": "84ae2004-a6eb-4407-fc68-c8eb521b3c2c"
      },
      "execution_count": null,
      "outputs": [
        {
          "output_type": "stream",
          "name": "stdout",
          "text": [
            "Pesos ajustados usando Gauss-Seidel:\n",
            "[0.42884615 0.64615385 0.67884615]\n",
            "Número de iteraciones: 8\n"
          ]
        }
      ]
    },
    {
      "cell_type": "markdown",
      "source": [
        "**Descomposicion de Cholesky**"
      ],
      "metadata": {
        "id": "vCBt3yOzqGoQ"
      }
    },
    {
      "cell_type": "code",
      "source": [
        "import numpy as np\n",
        "from scipy.linalg import cholesky\n",
        "\n",
        "# Definir matriz A y vector b\n",
        "A = np.array([[25, 15, -5],\n",
        "              [15, 18, 0],\n",
        "              [-5, 0, 11]], dtype=float)\n",
        "\n",
        "b = np.array([350, 400, 200], dtype=float)\n",
        "\n",
        "# Descomposición de Cholesky\n",
        "L = cholesky(A, lower=True)\n",
        "\n",
        "# Resolver Ly = b\n",
        "y = np.linalg.solve(L, b)\n",
        "\n",
        "# Resolver Lᵗx = y\n",
        "x = np.linalg.solve(L.T, y)\n",
        "\n",
        "print(\"Pesos ajustados usando Cholesky:\")\n",
        "print(x)"
      ],
      "metadata": {
        "colab": {
          "base_uri": "https://localhost:8080/"
        },
        "id": "5mdV_l8TqLWx",
        "outputId": "d313306f-2a78-48be-da06-b811ddb30322"
      },
      "execution_count": null,
      "outputs": [
        {
          "output_type": "stream",
          "name": "stdout",
          "text": [
            "Pesos ajustados usando Cholesky:\n",
            "[10.51851852 13.45679012 22.96296296]\n"
          ]
        }
      ]
    }
  ]
}
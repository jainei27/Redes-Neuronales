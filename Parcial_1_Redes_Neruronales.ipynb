{
  "cells": [
    {
      "cell_type": "markdown",
      "metadata": {
        "id": "view-in-github",
        "colab_type": "text"
      },
      "source": [
        "<a href=\"https://colab.research.google.com/github/jainei27/Redes-Neuronales/blob/main/Parcial_1_Redes_Neruronales.ipynb\" target=\"_parent\"><img src=\"https://colab.research.google.com/assets/colab-badge.svg\" alt=\"Open In Colab\"/></a>"
      ]
    },
    {
      "cell_type": "markdown",
      "metadata": {
        "id": "ymCF-0dUN009"
      },
      "source": [
        "# Ejercicio 1: Modo de Aprendizaje (Entrenamiento de la Red Neuronal)"
      ]
    },
    {
      "cell_type": "code",
      "execution_count": null,
      "metadata": {
        "colab": {
          "base_uri": "https://localhost:8080/"
        },
        "id": "AJs9zix6NIUO",
        "outputId": "29cd65af-e1d2-4b6c-9637-6fcbf6229b4d"
      },
      "outputs": [
        {
          "name": "stdout",
          "output_type": "stream",
          "text": [
            "Modo de apredizaje: entrenando la red neuronal...\n",
            "Epoch 1/5\n",
            "\u001b[1m1875/1875\u001b[0m \u001b[32m━━━━━━━━━━━━━━━━━━━━\u001b[0m\u001b[37m\u001b[0m \u001b[1m7s\u001b[0m 3ms/step - accuracy: 0.8794 - loss: 0.4278 - val_accuracy: 0.9543 - val_loss: 0.1479\n",
            "Epoch 2/5\n",
            "\u001b[1m1875/1875\u001b[0m \u001b[32m━━━━━━━━━━━━━━━━━━━━\u001b[0m\u001b[37m\u001b[0m \u001b[1m5s\u001b[0m 3ms/step - accuracy: 0.9661 - loss: 0.1154 - val_accuracy: 0.9676 - val_loss: 0.1042\n",
            "Epoch 3/5\n",
            "\u001b[1m1875/1875\u001b[0m \u001b[32m━━━━━━━━━━━━━━━━━━━━\u001b[0m\u001b[37m\u001b[0m \u001b[1m5s\u001b[0m 3ms/step - accuracy: 0.9777 - loss: 0.0766 - val_accuracy: 0.9751 - val_loss: 0.0809\n",
            "Epoch 4/5\n",
            "\u001b[1m1875/1875\u001b[0m \u001b[32m━━━━━━━━━━━━━━━━━━━━\u001b[0m\u001b[37m\u001b[0m \u001b[1m5s\u001b[0m 2ms/step - accuracy: 0.9840 - loss: 0.0539 - val_accuracy: 0.9748 - val_loss: 0.0784\n",
            "Epoch 5/5\n",
            "\u001b[1m1875/1875\u001b[0m \u001b[32m━━━━━━━━━━━━━━━━━━━━\u001b[0m\u001b[37m\u001b[0m \u001b[1m5s\u001b[0m 2ms/step - accuracy: 0.9865 - loss: 0.0424 - val_accuracy: 0.9750 - val_loss: 0.0806\n"
          ]
        },
        {
          "data": {
            "text/plain": [
              "<keras.src.callbacks.history.History at 0x7b776c40a810>"
            ]
          },
          "execution_count": 2,
          "metadata": {},
          "output_type": "execute_result"
        }
      ],
      "source": [
        "#importar librerias necesarias\n",
        "import tensorflow as tf\n",
        "from tensorflow import keras\n",
        "\n",
        "# Cargar el dataset MNIST\n",
        "(x_train, y_train), (x_test, y_test) = keras.datasets.mnist.load_data()\n",
        "\n",
        "#normalizar los datos(escala de 0 a 1)\n",
        "x_train , x_test = x_train / 255.0 , x_test / 255.0      #x= imagen, y=etiqueta\n",
        "\n",
        "#Definir la red neuronal\n",
        "model = keras.Sequential([\n",
        "    keras.layers.Flatten(input_shape=(28,28)),            #Capa de entrada\n",
        "    keras.layers.Dense(128, activation='relu'),           #Capa oculta\n",
        "    keras.layers.Dense(10, activation='softmax')          #capa de salida(10 Clases)\n",
        "])\n",
        "\n",
        "# compilar el modelo( mode de apredizaje)\n",
        "model.compile(optimizer='adam',\n",
        "              loss='sparse_categorical_crossentropy',\n",
        "              metrics=['accuracy'])\n",
        "\n",
        "# Entrenar la red neuronal\n",
        "print(\"Modo de apredizaje: entrenando la red neuronal...\")\n",
        "model.fit(x_train, y_train, epochs=5, validation_data=(x_test, y_test))\n"
      ]
    },
    {
      "cell_type": "markdown",
      "metadata": {
        "id": "32VZzcqMUuOj"
      },
      "source": [
        "# cambio1"
      ]
    },
    {
      "cell_type": "code",
      "execution_count": null,
      "metadata": {
        "colab": {
          "base_uri": "https://localhost:8080/"
        },
        "id": "RwQnAZHgUupY",
        "outputId": "68e4db5b-0ba4-4eee-c4a8-e98d066635dd"
      },
      "outputs": [
        {
          "name": "stderr",
          "output_type": "stream",
          "text": [
            "/usr/local/lib/python3.11/dist-packages/keras/src/layers/reshaping/flatten.py:37: UserWarning: Do not pass an `input_shape`/`input_dim` argument to a layer. When using Sequential models, prefer using an `Input(shape)` object as the first layer in the model instead.\n",
            "  super().__init__(**kwargs)\n"
          ]
        },
        {
          "name": "stdout",
          "output_type": "stream",
          "text": [
            "Epoch 1/3\n",
            "\u001b[1m1875/1875\u001b[0m \u001b[32m━━━━━━━━━━━━━━━━━━━━\u001b[0m\u001b[37m\u001b[0m \u001b[1m5s\u001b[0m 2ms/step - accuracy: 0.8762 - loss: 0.4350\n",
            "Epoch 2/3\n",
            "\u001b[1m1875/1875\u001b[0m \u001b[32m━━━━━━━━━━━━━━━━━━━━\u001b[0m\u001b[37m\u001b[0m \u001b[1m4s\u001b[0m 2ms/step - accuracy: 0.9651 - loss: 0.1167\n",
            "Epoch 3/3\n",
            "\u001b[1m1875/1875\u001b[0m \u001b[32m━━━━━━━━━━━━━━━━━━━━\u001b[0m\u001b[37m\u001b[0m \u001b[1m4s\u001b[0m 2ms/step - accuracy: 0.9759 - loss: 0.0810\n",
            "\u001b[1m313/313\u001b[0m \u001b[32m━━━━━━━━━━━━━━━━━━━━\u001b[0m\u001b[37m\u001b[0m \u001b[1m1s\u001b[0m 3ms/step - accuracy: 0.9716 - loss: 0.0956\n",
            "Presicion en el conjunto de prueba: 0.9760\n"
          ]
        }
      ],
      "source": [
        "#importar librerias necesarias\n",
        "import tensorflow as tf\n",
        "from tensorflow import keras\n",
        "\n",
        "# Cargar el dataset MNIST\n",
        "(x_train, y_train), (x_test, y_test) = keras.datasets.mnist.load_data()\n",
        "\n",
        "#normalizar los datos(escala de 0 a 1)\n",
        "x_train , x_test = x_train / 255.0 , x_test / 255.0      #x= imagen, y=etiqueta\n",
        "\n",
        "#Definir la red neuronal\n",
        "model = keras.Sequential([\n",
        "    keras.layers.Flatten(input_shape=(28,28)),            #Capa de entrada\n",
        "    keras.layers.Dense(128, activation='relu'),           #Capa oculta\n",
        "    keras.layers.Dense(10, activation='softmax')          #capa de salida(10 Clases)\n",
        "])\n",
        "\n",
        "# compilar el modelo( mode de apredizaje)\n",
        "model.compile(optimizer='adam',\n",
        "              loss='sparse_categorical_crossentropy',\n",
        "              metrics=['accuracy'])\n",
        "\n",
        "#entrenar el modelo\n",
        "model.fit(x_train, y_train, epochs=3)\n",
        "\n",
        "#evaluar el modelo\n",
        "test_loss, test_acc = model.evaluate(x_test, y_test)\n",
        "print(f'Presicion en el conjunto de prueba: {test_acc:.4f}')"
      ]
    },
    {
      "cell_type": "markdown",
      "metadata": {
        "id": "OmPF8iHdXGv4"
      },
      "source": [
        "# Cambio 2"
      ]
    },
    {
      "cell_type": "code",
      "execution_count": null,
      "metadata": {
        "colab": {
          "background_save": true
        },
        "id": "sCfMc1JBXIgo",
        "outputId": "4b3caaaa-02d4-40f0-a471-d63030b16439"
      },
      "outputs": [
        {
          "data": {
            "image/png": "[encoded data removed]",
            "text/plain": [
              "<Figure size 1000x500 with 10 Axes>"
            ]
          },
          "metadata": {},
          "output_type": "display_data"
        },
        {
          "name": "stderr",
          "output_type": "stream",
          "text": [
            "/usr/local/lib/python3.11/dist-packages/keras/src/layers/reshaping/flatten.py:37: UserWarning: Do not pass an `input_shape`/`input_dim` argument to a layer. When using Sequential models, prefer using an `Input(shape)` object as the first layer in the model instead.\n",
            "  super().__init__(**kwargs)\n"
          ]
        },
        {
          "name": "stdout",
          "output_type": "stream",
          "text": [
            "Epoch 1/3\n",
            "\u001b[1m1875/1875\u001b[0m \u001b[32m━━━━━━━━━━━━━━━━━━━━\u001b[0m\u001b[37m\u001b[0m \u001b[1m6s\u001b[0m 2ms/step - accuracy: 0.8798 - loss: 0.4369\n",
            "Epoch 2/3\n",
            "\u001b[1m1875/1875\u001b[0m \u001b[32m━━━━━━━━━━━━━━━━━━━━\u001b[0m\u001b[37m\u001b[0m \u001b[1m4s\u001b[0m 2ms/step - accuracy: 0.9639 - loss: 0.1206\n",
            "Epoch 3/3\n",
            "\u001b[1m1875/1875\u001b[0m \u001b[32m━━━━━━━━━━━━━━━━━━━━\u001b[0m\u001b[37m\u001b[0m \u001b[1m5s\u001b[0m 2ms/step - accuracy: 0.9787 - loss: 0.0722\n",
            "\u001b[1m313/313\u001b[0m \u001b[32m━━━━━━━━━━━━━━━━━━━━\u001b[0m\u001b[37m\u001b[0m \u001b[1m1s\u001b[0m 3ms/step - accuracy: 0.9699 - loss: 0.0964\n",
            "Precisión en el conjunto de prueba: 0.9744\n"
          ]
        }
      ],
      "source": [
        "# Importar las bibliotecas necesarias\n",
        "import tensorflow as tf\n",
        "from tensorflow.keras import layers, models\n",
        "import matplotlib.pyplot as plt  # Para visualizar las imágenes\n",
        "\n",
        "# Cargar y preparar los datos de MNIST\n",
        "(x_train, y_train), (x_test, y_test) = tf.keras.datasets.mnist.load_data()\n",
        "\n",
        "# Normalizar los datos (valores entre 0 y 1)\n",
        "x_train = x_train / 255.0\n",
        "x_test = x_test / 255.0\n",
        "\n",
        "# Mostrar algunas imágenes de ejemplo\n",
        "plt.figure(figsize=(10, 5))  # Tamaño de la figura\n",
        "for i in range(10):  # Mostrar 10 imágenes\n",
        "    plt.subplot(2, 5, i+1)  # Organizar en 2 filas y 5 columnas\n",
        "    plt.imshow(x_train[i], cmap='gray')  # Mostrar la imagen en escala de grises\n",
        "    plt.title(f'Dígito: {y_train[i]}')  # Título con la etiqueta real\n",
        "    plt.axis('off')  # Quitar ejes\n",
        "plt.show()  # Mostrar todas las imágenes\n",
        "\n",
        "# Crear un modelo simple\n",
        "model = models.Sequential([\n",
        "    layers.Flatten(input_shape=(28, 28)),  # Aplanar las imágenes de 28x28 a un vector\n",
        "    layers.Dense(128, activation='relu'),  # Capa densa con 128 neuronas\n",
        "    layers.Dense(10, activation='softmax') # Capa de salida con 10 clases\n",
        "])\n",
        "\n",
        "# Compilar el modelo\n",
        "model.compile(optimizer='adam',\n",
        "              loss='sparse_categorical_crossentropy',\n",
        "              metrics=['accuracy'])\n",
        "\n",
        "# Entrenar el modelo\n",
        "model.fit(x_train, y_train, epochs=3)\n",
        "\n",
        "# Evaluar el modelo\n",
        "test_loss, test_acc = model.evaluate(x_test, y_test)\n",
        "print(f'Precisión en el conjunto de prueba: {test_acc:.4f}')"
      ]
    },
    {
      "cell_type": "markdown",
      "source": [
        "# Ejercicio 2: Modo de Recuerdo (Inferencia o Predicción)"
      ],
      "metadata": {
        "id": "YY4UJFHNZHBQ"
      }
    },
    {
      "cell_type": "code",
      "source": [
        "#importar librerias necesarias\n",
        "import tensorflow as tf\n",
        "from tensorflow.keras import layers, models\n",
        "import matplotlib.pyplot as plt #para visualizar las imagenes\n",
        "\n",
        "# Cargar el dataset MNIST\n",
        "(x_train, y_train), (x_test, y_test) = tf.keras.datasets.mnist.load_data()\n",
        "\n",
        "#normalizar los datos (escala de 0 a 1)\n",
        "x_train = x_train / 255.0\n",
        "x_test = x_test /255.0\n",
        "\n",
        "# mostrar algunas imagenes de ejemplo\n",
        "plt.figure(figsize=(10,5))# tamaño de la figura\n",
        "for i in range(10): #mostrar 10 imagenes\n",
        "    plt.subplot(2,5,i+1) # organizar 2 filas y 5 columnnas\n",
        "    plt.imshow(x_train[i], cmap='gray') #mostrar la imagen en escala de grises\n",
        "    plt.title(f\"Etiqueta: {y_train[i]}\") # titulo con la etiqueta real\n",
        "    plt.axis('off') # quitar ejes\n",
        "plt.show() # mostrear todas las imagenes\n",
        "\n",
        "#definir la red neuronal\n",
        "model = models.Sequential([\n",
        "    layers.Input(shape=(28,28)), # 28 pasos de tiempo(filas), 28 caracteristicas\n",
        "    layers.LSTM(128, return_sequences=False), # capa lstm con 128 neuronas\n",
        "    layers.Dense(10, activation='softmax') # capa de salida (10 clases)\n",
        "])\n",
        "\n",
        "\n",
        "#compilar el modelo (modo de aprendizaje)\n",
        "model.compile(optimizer='adam',\n",
        "              loss='sparse_categorical_crossentropy',\n",
        "              metrics=['accuracy'])\n",
        "\n",
        "#resumen del modelo\n",
        "model.summary()\n",
        "\n",
        "#entrenar la red neuronal\n",
        "print(\"Modo de aprendizaje: Entrenando la red neuronal...\")\n",
        "model.fit(x_train, y_train, epochs=10)\n",
        "\n",
        "test_loss, test_acc = model.evaluate(x_test, y_test)\n",
        "print(f'presicion en el conjunto de prueba: {test_acc:.4f}')"
      ],
      "metadata": {
        "colab": {
          "base_uri": "https://localhost:8080/",
          "height": 988
        },
        "id": "fSoVDhNuZRJZ",
        "outputId": "f736affb-7abd-4b7e-c195-895ee73a7efb"
      },
      "execution_count": 3,
      "outputs": [
        {
          "output_type": "display_data",
          "data": {
            "text/plain": [
              "<Figure size 1000x500 with 10 Axes>"
            ],
            "image/png": "[encoded data removed]"
          },
          "metadata": {}
        },
        {
          "output_type": "display_data",
          "data": {
            "text/plain": [
              "\u001b[1mModel: \"sequential_2\"\u001b[0m\n"
            ],
            "text/html": [
              "<pre style=\"white-space:pre;overflow-x:auto;line-height:normal;font-family:Menlo,'DejaVu Sans Mono',consolas,'Courier New',monospace\"><span style=\"font-weight: bold\">Model: \"sequential_2\"</span>\n",
              "</pre>\n"
            ]
          },
          "metadata": {}
        },
        {
          "output_type": "display_data",
          "data": {
            "text/plain": [
              "┏━━━━━━━━━━━━━━━━━━━━━━━━━━━━━━━━━━━━━━┳━━━━━━━━━━━━━━━━━━━━━━━━━━━━━┳━━━━━━━━━━━━━━━━━┓\n",
              "┃\u001b[1m \u001b[0m\u001b[1mLayer (type)                        \u001b[0m\u001b[1m \u001b[0m┃\u001b[1m \u001b[0m\u001b[1mOutput Shape               \u001b[0m\u001b[1m \u001b[0m┃\u001b[1m \u001b[0m\u001b[1m        Param #\u001b[0m\u001b[1m \u001b[0m┃\n",
              "┡━━━━━━━━━━━━━━━━━━━━━━━━━━━━━━━━━━━━━━╇━━━━━━━━━━━━━━━━━━━━━━━━━━━━━╇━━━━━━━━━━━━━━━━━┩\n",
              "│ lstm (\u001b[38;5;33mLSTM\u001b[0m)                          │ (\u001b[38;5;45mNone\u001b[0m, \u001b[38;5;34m128\u001b[0m)                 │          \u001b[38;5;34m80,384\u001b[0m │\n",
              "├──────────────────────────────────────┼─────────────────────────────┼─────────────────┤\n",
              "│ dense_2 (\u001b[38;5;33mDense\u001b[0m)                      │ (\u001b[38;5;45mNone\u001b[0m, \u001b[38;5;34m10\u001b[0m)                  │           \u001b[38;5;34m1,290\u001b[0m │\n",
              "└──────────────────────────────────────┴─────────────────────────────┴─────────────────┘\n"
            ],
            "text/html": [
              "<pre style=\"white-space:pre;overflow-x:auto;line-height:normal;font-family:Menlo,'DejaVu Sans Mono',consolas,'Courier New',monospace\">┏━━━━━━━━━━━━━━━━━━━━━━━━━━━━━━━━━━━━━━┳━━━━━━━━━━━━━━━━━━━━━━━━━━━━━┳━━━━━━━━━━━━━━━━━┓\n",
              "┃<span style=\"font-weight: bold\"> Layer (type)                         </span>┃<span style=\"font-weight: bold\"> Output Shape                </span>┃<span style=\"font-weight: bold\">         Param # </span>┃\n",
              "┡━━━━━━━━━━━━━━━━━━━━━━━━━━━━━━━━━━━━━━╇━━━━━━━━━━━━━━━━━━━━━━━━━━━━━╇━━━━━━━━━━━━━━━━━┩\n",
              "│ lstm (<span style=\"color: #0087ff; text-decoration-color: #0087ff\">LSTM</span>)                          │ (<span style=\"color: #00d7ff; text-decoration-color: #00d7ff\">None</span>, <span style=\"color: #00af00; text-decoration-color: #00af00\">128</span>)                 │          <span style=\"color: #00af00; text-decoration-color: #00af00\">80,384</span> │\n",
              "├──────────────────────────────────────┼─────────────────────────────┼─────────────────┤\n",
              "│ dense_2 (<span style=\"color: #0087ff; text-decoration-color: #0087ff\">Dense</span>)                      │ (<span style=\"color: #00d7ff; text-decoration-color: #00d7ff\">None</span>, <span style=\"color: #00af00; text-decoration-color: #00af00\">10</span>)                  │           <span style=\"color: #00af00; text-decoration-color: #00af00\">1,290</span> │\n",
              "└──────────────────────────────────────┴─────────────────────────────┴─────────────────┘\n",
              "</pre>\n"
            ]
          },
          "metadata": {}
        },
        {
          "output_type": "display_data",
          "data": {
            "text/plain": [
              "\u001b[1m Total params: \u001b[0m\u001b[38;5;34m81,674\u001b[0m (319.04 KB)\n"
            ],
            "text/html": [
              "<pre style=\"white-space:pre;overflow-x:auto;line-height:normal;font-family:Menlo,'DejaVu Sans Mono',consolas,'Courier New',monospace\"><span style=\"font-weight: bold\"> Total params: </span><span style=\"color: #00af00; text-decoration-color: #00af00\">81,674</span> (319.04 KB)\n",
              "</pre>\n"
            ]
          },
          "metadata": {}
        },
        {
          "output_type": "display_data",
          "data": {
            "text/plain": [
              "\u001b[1m Trainable params: \u001b[0m\u001b[38;5;34m81,674\u001b[0m (319.04 KB)\n"
            ],
            "text/html": [
              "<pre style=\"white-space:pre;overflow-x:auto;line-height:normal;font-family:Menlo,'DejaVu Sans Mono',consolas,'Courier New',monospace\"><span style=\"font-weight: bold\"> Trainable params: </span><span style=\"color: #00af00; text-decoration-color: #00af00\">81,674</span> (319.04 KB)\n",
              "</pre>\n"
            ]
          },
          "metadata": {}
        },
        {
          "output_type": "display_data",
          "data": {
            "text/plain": [
              "\u001b[1m Non-trainable params: \u001b[0m\u001b[38;5;34m0\u001b[0m (0.00 B)\n"
            ],
            "text/html": [
              "<pre style=\"white-space:pre;overflow-x:auto;line-height:normal;font-family:Menlo,'DejaVu Sans Mono',consolas,'Courier New',monospace\"><span style=\"font-weight: bold\"> Non-trainable params: </span><span style=\"color: #00af00; text-decoration-color: #00af00\">0</span> (0.00 B)\n",
              "</pre>\n"
            ]
          },
          "metadata": {}
        },
        {
          "output_type": "stream",
          "name": "stdout",
          "text": [
            "Modo de aprendizaje: Entrenando la red neuronal...\n",
            "Epoch 1/10\n",
            "\u001b[1m1875/1875\u001b[0m \u001b[32m━━━━━━━━━━━━━━━━━━━━\u001b[0m\u001b[37m\u001b[0m \u001b[1m10s\u001b[0m 4ms/step - accuracy: 0.7730 - loss: 0.6759\n",
            "Epoch 2/10\n",
            "\u001b[1m1875/1875\u001b[0m \u001b[32m━━━━━━━━━━━━━━━━━━━━\u001b[0m\u001b[37m\u001b[0m \u001b[1m8s\u001b[0m 4ms/step - accuracy: 0.9648 - loss: 0.1165\n",
            "Epoch 3/10\n",
            "\u001b[1m1875/1875\u001b[0m \u001b[32m━━━━━━━━━━━━━━━━━━━━\u001b[0m\u001b[37m\u001b[0m \u001b[1m8s\u001b[0m 4ms/step - accuracy: 0.9758 - loss: 0.0776\n",
            "Epoch 4/10\n",
            "\u001b[1m1875/1875\u001b[0m \u001b[32m━━━━━━━━━━━━━━━━━━━━\u001b[0m\u001b[37m\u001b[0m \u001b[1m8s\u001b[0m 4ms/step - accuracy: 0.9832 - loss: 0.0567\n",
            "Epoch 5/10\n",
            "\u001b[1m1875/1875\u001b[0m \u001b[32m━━━━━━━━━━━━━━━━━━━━\u001b[0m\u001b[37m\u001b[0m \u001b[1m10s\u001b[0m 4ms/step - accuracy: 0.9870 - loss: 0.0430\n",
            "Epoch 6/10\n",
            "\u001b[1m1875/1875\u001b[0m \u001b[32m━━━━━━━━━━━━━━━━━━━━\u001b[0m\u001b[37m\u001b[0m \u001b[1m10s\u001b[0m 4ms/step - accuracy: 0.9889 - loss: 0.0366\n",
            "Epoch 7/10\n",
            "\u001b[1m1875/1875\u001b[0m \u001b[32m━━━━━━━━━━━━━━━━━━━━\u001b[0m\u001b[37m\u001b[0m \u001b[1m8s\u001b[0m 4ms/step - accuracy: 0.9906 - loss: 0.0307\n",
            "Epoch 8/10\n",
            "\u001b[1m1875/1875\u001b[0m \u001b[32m━━━━━━━━━━━━━━━━━━━━\u001b[0m\u001b[37m\u001b[0m \u001b[1m8s\u001b[0m 4ms/step - accuracy: 0.9923 - loss: 0.0264\n",
            "Epoch 9/10\n",
            "\u001b[1m1875/1875\u001b[0m \u001b[32m━━━━━━━━━━━━━━━━━━━━\u001b[0m\u001b[37m\u001b[0m \u001b[1m10s\u001b[0m 4ms/step - accuracy: 0.9924 - loss: 0.0244\n",
            "Epoch 10/10\n",
            "\u001b[1m1875/1875\u001b[0m \u001b[32m━━━━━━━━━━━━━━━━━━━━\u001b[0m\u001b[37m\u001b[0m \u001b[1m8s\u001b[0m 4ms/step - accuracy: 0.9939 - loss: 0.0201\n",
            "\u001b[1m313/313\u001b[0m \u001b[32m━━━━━━━━━━━━━━━━━━━━\u001b[0m\u001b[37m\u001b[0m \u001b[1m1s\u001b[0m 3ms/step - accuracy: 0.9833 - loss: 0.0491\n",
            "presicion en el conjunto de prueba: 0.9870\n"
          ]
        }
      ]
    },
    {
      "cell_type": "markdown",
      "source": [
        "# Ejercicio 3: Clasificación de Dígitos con Redes Neuronales Recurrentes (RNN)"
      ],
      "metadata": {
        "id": "chNS-ZRqOIWe"
      }
    },
    {
      "cell_type": "code",
      "source": [
        "# Importar las bibliotecas necesarias\n",
        "import tensorflow as tf\n",
        "from tensorflow.keras import layers, models\n",
        "import matplotlib.pyplot as plt\n",
        "import numpy as np\n",
        "\n",
        "# Cargar y preparar los datos de MNIST\n",
        "(x_train, y_train), (x_test, y_test) = tf.keras.datasets.mnist.load_data()\n",
        "\n",
        "# Normalizar los datos (valores entre 0 y 1)\n",
        "x_train = x_train / 255.0\n",
        "x_test = x_test / 255.0\n",
        "\n",
        "# Crear un modelo con memoria simple (SimpleRNN)\n",
        "model = models.Sequential([\n",
        "    layers.Input(shape=(28, 28)),  # 28 pasos de tiempo (filas), 28 características (píxeles por fila)\n",
        "    layers.SimpleRNN(64),  # Capa SimpleRNN con 64 unidades\n",
        "    layers.Dense(10, activation='softmax')  # Capa de salida con 10 clases\n",
        "])\n",
        "\n",
        "# Compilar el modelo\n",
        "model.compile(optimizer='adam',\n",
        "              loss='sparse_categorical_crossentropy',\n",
        "              metrics=['accuracy'])\n",
        "\n",
        "# Entrenar el modelo\n",
        "print(\"Entrenando el modelo...\")\n",
        "model.fit(x_train, y_train, epochs=3, verbose=1)\n",
        "\n",
        "# Evaluar el modelo en el conjunto de prueba\n",
        "test_loss, test_acc = model.evaluate(x_test, y_test, verbose=0)\n",
        "print(f\"\\nPrecisión en el conjunto de prueba: {test_acc:.4f}\")\n",
        "\n",
        "# Elegir el dígito específico que quieres predecir (0-9)\n",
        "digito_deseado = 6  # Cambia este número (0-9) para predecir el dígito que quieras\n",
        "\n",
        "# Buscar una imagen en x_test que sea el dígito deseado\n",
        "indice = None\n",
        "for i in range(len(x_test)):\n",
        "    if y_test[i] == digito_deseado:\n",
        "        indice = i\n",
        "        break\n",
        "\n",
        "if indice is not None:\n",
        "    # Seleccionar la imagen y su etiqueta real\n",
        "    imagen_prueba = x_test[indice]\n",
        "    etiqueta_real = y_test[indice]\n",
        "\n",
        "    # Mostrar la imagen seleccionada\n",
        "    plt.figure(figsize=(5, 5))\n",
        "    plt.imshow(imagen_prueba, cmap='gray')\n",
        "    plt.title(f'Imagen seleccionada - Etiqueta real: {etiqueta_real}')\n",
        "    plt.axis('off')\n",
        "    plt.show()\n",
        "\n",
        "    # Realizar la predicción\n",
        "    imagen_prueba_reshape = np.expand_dims(imagen_prueba, axis=0)\n",
        "    prediccion = model.predict(imagen_prueba_reshape, verbose=0)\n",
        "    digito_predicho = np.argmax(prediccion)\n",
        "\n",
        "    # Mostrar la predicción y probabilidades\n",
        "    print(f\"\\nPredicción del modelo: {digito_predicho}\")\n",
        "    print(\"Probabilidades para cada clase:\")\n",
        "    for i, prob in enumerate(prediccion[0]):\n",
        "        print(f\"Clase {i}: {prob:.4f}\")\n",
        "\n",
        "    # Comparar el resultado con la etiqueta real\n",
        "    print(f\"\\nEtiqueta real: {etiqueta_real}\")\n",
        "    if digito_predicho == etiqueta_real:\n",
        "        print(\"¡El modelo acertó en su predicción!\")\n",
        "    else:\n",
        "        print(\"El modelo no acertó en su predicción.\")\n",
        "\n",
        "    # Visualización final con predicción y real\n",
        "    plt.figure(figsize=(5, 5))\n",
        "    plt.imshow(imagen_prueba, cmap='gray')\n",
        "    plt.text(2, 2, f'Pred: {digito_predicho}', color='red', fontsize=12, weight='bold',\n",
        "             bbox=dict(facecolor='white', alpha=0.8))\n",
        "    plt.text(2, 25, f'Real: {etiqueta_real}', color='blue', fontsize=12, weight='bold',\n",
        "             bbox=dict(facecolor='white', alpha=0.8))\n",
        "    plt.axis('off')\n",
        "    plt.show()\n",
        "\n",
        "else:\n",
        "    print(f\"No se encontró ninguna imagen con el dígito {digito_deseado} en el conjunto de prueba.\")\n"
      ],
      "metadata": {
        "colab": {
          "base_uri": "https://localhost:8080/",
          "height": 1000
        },
        "id": "1nqltxMUOI4S",
        "outputId": "c016a050-e5f4-4c8c-a935-d2ef56a1d0a1"
      },
      "execution_count": 2,
      "outputs": [
        {
          "output_type": "stream",
          "name": "stdout",
          "text": [
            "Entrenando el modelo...\n",
            "Epoch 1/3\n",
            "\u001b[1m1875/1875\u001b[0m \u001b[32m━━━━━━━━━━━━━━━━━━━━\u001b[0m\u001b[37m\u001b[0m \u001b[1m9s\u001b[0m 4ms/step - accuracy: 0.7521 - loss: 0.7774\n",
            "Epoch 2/3\n",
            "\u001b[1m1875/1875\u001b[0m \u001b[32m━━━━━━━━━━━━━━━━━━━━\u001b[0m\u001b[37m\u001b[0m \u001b[1m8s\u001b[0m 3ms/step - accuracy: 0.9230 - loss: 0.2626\n",
            "Epoch 3/3\n",
            "\u001b[1m1875/1875\u001b[0m \u001b[32m━━━━━━━━━━━━━━━━━━━━\u001b[0m\u001b[37m\u001b[0m \u001b[1m7s\u001b[0m 4ms/step - accuracy: 0.9389 - loss: 0.2102\n",
            "\n",
            "Precisión en el conjunto de prueba: 0.9546\n"
          ]
        },
        {
          "output_type": "display_data",
          "data": {
            "text/plain": [
              "<Figure size 500x500 with 1 Axes>"
            ],
            "image/png": "[encoded data removed]"
          },
          "metadata": {}
        },
        {
          "output_type": "stream",
          "name": "stdout",
          "text": [
            "\n",
            "Predicción del modelo: 6\n",
            "Probabilidades para cada clase:\n",
            "Clase 0: 0.0023\n",
            "Clase 1: 0.0009\n",
            "Clase 2: 0.0019\n",
            "Clase 3: 0.0003\n",
            "Clase 4: 0.0005\n",
            "Clase 5: 0.0040\n",
            "Clase 6: 0.9761\n",
            "Clase 7: 0.0000\n",
            "Clase 8: 0.0140\n",
            "Clase 9: 0.0001\n",
            "\n",
            "Etiqueta real: 6\n",
            "¡El modelo acertó en su predicción!\n"
          ]
        },
        {
          "output_type": "display_data",
          "data": {
            "text/plain": [
              "<Figure size 500x500 with 1 Axes>"
            ],
            "image/png": "[encoded data removed]"
          },
          "metadata": {}
        }
      ]
    }
  ],
  "metadata": {
    "accelerator": "GPU",
    "colab": {
      "gpuType": "T4",
      "provenance": [],
      "authorship_tag": "ABX9TyOxrKZrl/XxwEtg263dIm77",
      "include_colab_link": true
    },
    "kernelspec": {
      "display_name": "Python 3",
      "name": "python3"
    },
    "language_info": {
      "name": "python"
    }
  },
  "nbformat": 4,
  "nbformat_minor": 0
}